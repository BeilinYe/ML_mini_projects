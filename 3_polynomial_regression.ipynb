{
 "nbformat": 4,
 "nbformat_minor": 0,
 "metadata": {
  "colab": {
   "name": "Multiple Linear Regression",
   "provenance": [],
   "toc_visible": true,
   "authorship_tag": "ABX9TyPhYhte6t7H4wEK4xPpDWT7"
  },
  "kernelspec": {
   "name": "python3",
   "display_name": "Python 3 (ipykernel)",
   "language": "python"
  }
 },
 "cells": [
  {
   "cell_type": "markdown",
   "metadata": {
    "id": "CazISR8X_HUG",
    "colab_type": "text"
   },
   "source": [
    "# Multiple Linear Regression"
   ]
  },
  {
   "cell_type": "markdown",
   "metadata": {
    "id": "vgC61-ah_WIz",
    "colab_type": "text"
   },
   "source": "## Data Pre-processing"
  },
  {
   "metadata": {},
   "cell_type": "code",
   "source": [
    "#1. Importing the libraries\n",
    "import pandas as pd\n",
    "import numpy as np\n",
    "import matplotlib.pyplot as plt\n",
    "\n",
    "#2. Importing the dataset\n",
    "df = pd.read_csv('Data/Position_Salaries.csv')\n",
    "print(\"The dataset preview:\\n\")\n",
    "print(df.head())\n",
    "\n",
    "#3. Missing data\n",
    "#Step 3.1.1: Is there any missing data?\n",
    "df.info()\n",
    "# Method 3.1.2: print number of null valyes\n",
    "missing_values = df.isnull().sum()\n",
    "print(missing_values)\n",
    "\n",
    "df_encoded = df[[\"Level\", \"Salary\"]]\n",
    "\n",
    "#5. X and y values\n",
    "X = df_encoded.iloc[:, :-1].values\n",
    "y = df_encoded.iloc[:, -1].values"
   ],
   "outputs": [],
   "execution_count": null
  },
  {
   "cell_type": "markdown",
   "metadata": {
    "id": "k-McZVsQBINc",
    "colab_type": "text"
   },
   "source": "## Training the Single Linear Regression model on the Training set"
  },
  {
   "metadata": {},
   "cell_type": "code",
   "source": [
    "from sklearn.linear_model import LinearRegression\n",
    "\n",
    "regressor = LinearRegression()\n",
    "regressor.fit(X, y)"
   ],
   "outputs": [],
   "execution_count": null
  },
  {
   "cell_type": "markdown",
   "metadata": {
    "id": "xNkXL1YQBiBT",
    "colab_type": "text"
   },
   "source": [
    "## Predicting the Test set results"
   ]
  },
  {
   "metadata": {},
   "cell_type": "code",
   "source": "np.set_printoptions(precision=2)",
   "outputs": [],
   "execution_count": null
  },
  {
   "metadata": {},
   "cell_type": "code",
   "source": "y_pred_linear = regressor.predict(X)",
   "outputs": [],
   "execution_count": null
  },
  {
   "metadata": {},
   "cell_type": "code",
   "source": "y_pred_linear",
   "outputs": [],
   "execution_count": null
  },
  {
   "metadata": {},
   "cell_type": "markdown",
   "source": "## Visualization"
  },
  {
   "metadata": {},
   "cell_type": "code",
   "source": [
    "plt.figure(figsize=(4, 3))\n",
    "plt.scatter(X, y, color='blue')\n",
    "plt.plot(X, y_pred_linear, color='red')\n",
    "plt.title('Simple Linear Regression')\n",
    "plt.xlabel(df_encoded.columns[0])\n",
    "plt.ylabel(df_encoded.columns[1])\n",
    "plt.show()"
   ],
   "outputs": [],
   "execution_count": null
  },
  {
   "metadata": {},
   "cell_type": "markdown",
   "source": "## Polynomial Regression"
  },
  {
   "metadata": {},
   "cell_type": "code",
   "source": [
    "# Fitting Polynomial Regression to the dataset\n",
    "from sklearn.preprocessing import PolynomialFeatures\n",
    "\n",
    "# Polynomial Regression (degree=2)\n",
    "poly_2 = PolynomialFeatures(degree=2)         # This is the power of \"n\", in the polynomial equation\n",
    "X_poly_2 = poly_2.fit_transform(X)              # Turn a single feature \"X\", to a matrix of [X, X^2, ..... , X^n]\n",
    "\n",
    "lin_for_ploy = LinearRegression()\n",
    "lin_for_ploy.fit(X_poly_2, y)"
   ],
   "outputs": [],
   "execution_count": null
  },
  {
   "metadata": {},
   "cell_type": "code",
   "source": [
    "# Prediction\n",
    "y_pred_poly_2 = lin_for_ploy.predict(X_poly_2)"
   ],
   "outputs": [],
   "execution_count": null
  },
  {
   "metadata": {},
   "cell_type": "code",
   "source": [
    "# Visualising the Polynomial Regression results\n",
    "plt.scatter(X, y, color='blue')\n",
    "plt.plot(X, y_pred_poly_2, color='red')\n",
    "plt.title('Polynomial Regression (n=2)')\n",
    "plt.xlabel(df_encoded.columns[0])\n",
    "plt.ylabel(df_encoded.columns[1])\n",
    "plt.show()"
   ],
   "outputs": [],
   "execution_count": null
  },
  {
   "metadata": {},
   "cell_type": "code",
   "source": [
    "# Polynomial Regression (degree=3)\n",
    "poly_3 = PolynomialFeatures(degree=3)\n",
    "X_poly_3 = poly_3.fit_transform(X)\n",
    "lin_for_ploy.fit(X_poly_3, y)\n",
    "y_pred_poly_3 = lin_for_ploy.predict(X_poly_3)"
   ],
   "outputs": [],
   "execution_count": null
  },
  {
   "metadata": {},
   "cell_type": "code",
   "source": [
    "# Polynomial Regression (degree=4)\n",
    "poly_4 = PolynomialFeatures(degree=4)\n",
    "X_poly_4 = poly_4.fit_transform(X)\n",
    "lin_for_ploy.fit(X_poly_4, y)\n",
    "y_pred_poly_4 = lin_for_ploy.predict(X_poly_4)"
   ],
   "outputs": [],
   "execution_count": null
  },
  {
   "metadata": {},
   "cell_type": "code",
   "source": [
    "plt.scatter(X, y, color='blue')\n",
    "# plt.plot(X, y_pred_poly_2, color='red', label='Poly n=2')\n",
    "# plt.plot(X, y_pred_poly_3, color='green', label='Poly n=3')\n",
    "plt.plot(X, y_pred_poly_4, color='brown', label='Poly n=4')\n",
    "plt.title('Polynomial Regression (n=2,3,4)')\n",
    "plt.xlabel(df_encoded.columns[0])\n",
    "plt.ylabel(df_encoded.columns[1])\n",
    "plt.legend()    # Show labels\n",
    "plt.show()"
   ],
   "outputs": [],
   "execution_count": null
  },
  {
   "metadata": {},
   "cell_type": "markdown",
   "source": "### How to make the curve more smooth?"
  },
  {
   "metadata": {},
   "cell_type": "code",
   "source": [
    "X_grid = np.arange(min(X[:, 0]), max(X[:, 0]), 0.1)\n",
    "X_grid = X_grid.reshape((len(X_grid), 1))   #机器学习需要二维数组，所以进行调整而已\n",
    "\n",
    "plt.scatter(X, y, color='blue')\n",
    "# plt.plot(X, y_pred_poly_2, color='red', label='Poly n=2')\n",
    "# plt.plot(X, y_pred_poly_3, color='green', label='Poly n=3')\n",
    "plt.plot(X_grid, lin_for_ploy.predict(poly_4.fit_transform(X_grid)), color='brown', label='Poly n=4')\n",
    "plt.title('Polynomial Regression (n=2,3,4)')\n",
    "plt.xlabel(df_encoded.columns[0])\n",
    "plt.ylabel(df_encoded.columns[1])\n",
    "plt.legend()    # Show labels\n",
    "plt.show()"
   ],
   "outputs": [],
   "execution_count": null
  },
  {
   "metadata": {},
   "cell_type": "markdown",
   "source": "### Predict a single point"
  },
  {
   "metadata": {
    "ExecuteTime": {
     "end_time": "2024-09-17T23:21:50.309842Z",
     "start_time": "2024-09-17T23:21:50.302705Z"
    }
   },
   "cell_type": "code",
   "source": [
    "# Linear\n",
    "regressor.predict([[6.5]])"
   ],
   "outputs": [
    {
     "data": {
      "text/plain": [
       "array([335474.56])"
      ]
     },
     "execution_count": 55,
     "metadata": {},
     "output_type": "execute_result"
    }
   ],
   "execution_count": 55
  },
  {
   "metadata": {
    "ExecuteTime": {
     "end_time": "2024-09-17T23:26:59.025212Z",
     "start_time": "2024-09-17T23:26:59.000110Z"
    }
   },
   "cell_type": "code",
   "source": [
    "# Polynomial\n",
    "# lin_for_ploy = LinearRegression()\n",
    "lin_for_ploy.fit(X_poly_4, y)\n",
    "lin_for_ploy.predict(poly_4.fit_transform([[6.5]]))"
   ],
   "outputs": [
    {
     "data": {
      "text/plain": [
       "array([158862.45])"
      ]
     },
     "execution_count": 58,
     "metadata": {},
     "output_type": "execute_result"
    }
   ],
   "execution_count": 58
  }
 ]
}
